{
 "cells": [
  {
   "cell_type": "markdown",
   "metadata": {},
   "source": [
    "En este archivo puedes escribir lo que estimes conveniente. Te recomendamos detallar tu solución y todas las suposiciones que estás considerando. Aquí puedes ejecutar las funciones que definiste en los otros archivos de la carpeta src, medir el tiempo, memoria, etc."
   ]
  },
  {
   "cell_type": "code",
   "execution_count": 40,
   "metadata": {},
   "outputs": [
    {
     "name": "stdout",
     "output_type": "stream",
     "text": [
      "Requirement already satisfied: memory-profiler in c:\\users\\juanpablobiron\\anaconda3\\lib\\site-packages (0.61.0)\n",
      "Requirement already satisfied: psutil in c:\\users\\juanpablobiron\\anaconda3\\lib\\site-packages (from memory-profiler) (5.9.0)\n",
      "Note: you may need to restart the kernel to use updated packages.\n",
      "Collecting emoji\n",
      "  Obtaining dependency information for emoji from https://files.pythonhosted.org/packages/ef/56/4ddf8b36aa4b52077045b17ffb8958f3360b250df4143d1482d9d5bb54d5/emoji-2.14.0-py3-none-any.whl.metadata\n",
      "  Downloading emoji-2.14.0-py3-none-any.whl.metadata (5.7 kB)\n",
      "Downloading emoji-2.14.0-py3-none-any.whl (586 kB)\n",
      "   ---------------------------------------- 0.0/586.9 kB ? eta -:--:--\n",
      "    --------------------------------------- 10.2/586.9 kB ? eta -:--:--\n",
      "   ----------------------- ---------------- 337.9/586.9 kB 4.2 MB/s eta 0:00:01\n",
      "   ---------------------------------------- 586.9/586.9 kB 5.3 MB/s eta 0:00:00\n",
      "Installing collected packages: emoji\n",
      "Successfully installed emoji-2.14.0\n",
      "Note: you may need to restart the kernel to use updated packages.\n"
     ]
    }
   ],
   "source": [
    "%pip install memory-profiler\n",
    "%pip install emoji"
   ]
  },
  {
   "cell_type": "code",
   "execution_count": 2,
   "metadata": {},
   "outputs": [
    {
     "name": "stdout",
     "output_type": "stream",
     "text": [
      "c:\\Users\\JuanPabloBiron\\jp\\challenge_DE\\input\\farmers-protest-tweets-2021-2-4.json\n"
     ]
    }
   ],
   "source": [
    "file_path = \"input\\\\farmers-protest-tweets-2021-2-4.json\"\n",
    "import json\n",
    "from memory_profiler import profile, memory_usage\n",
    "from typing import List, Tuple\n",
    "from datetime import datetime\n",
    "from base import Base\n",
    "from collections import defaultdict\n",
    "import pandas as pd\n",
    "import os\n",
    "complete_file_path = os.path.join(os.path.dirname( os.getcwd()), file_path)\n",
    "print(complete_file_path)"
   ]
  },
  {
   "cell_type": "code",
   "execution_count": 35,
   "metadata": {},
   "outputs": [
    {
     "name": "stdout",
     "output_type": "stream",
     "text": [
      "ERROR: Could not find file C:\\Users\\JuanPabloBiron\\AppData\\Local\\Temp\\ipykernel_24828\\737624332.py\n"
     ]
    },
    {
     "data": {
      "text/plain": [
       "[(datetime.date(2021, 2, 12), 12347),\n",
       " (datetime.date(2021, 2, 13), 11296),\n",
       " (datetime.date(2021, 2, 17), 11087),\n",
       " (datetime.date(2021, 2, 16), 10443),\n",
       " (datetime.date(2021, 2, 14), 10249),\n",
       " (datetime.date(2021, 2, 18), 9625),\n",
       " (datetime.date(2021, 2, 15), 9197),\n",
       " (datetime.date(2021, 2, 20), 8502),\n",
       " (datetime.date(2021, 2, 23), 8417),\n",
       " (datetime.date(2021, 2, 19), 8204)]"
      ]
     },
     "execution_count": 35,
     "metadata": {},
     "output_type": "execute_result"
    }
   ],
   "source": [
    "def q1_time(file_path) -> List[Tuple[datetime.date, str]]:\n",
    "        # Leer el archivo JSON\n",
    "        # Lista para almacenar los datos extraídos\n",
    "        data_list = []\n",
    "        \n",
    "        # Leer el archivo JSON\n",
    "        with open(file_path, 'r') as file:\n",
    "            json_objects = file.read().splitlines()  # Splitting the JSON objects by lines\n",
    "            \n",
    "            for obj in json_objects:\n",
    "                data = json.loads(obj)  # Convertir la línea a un objeto JSON\n",
    "                # Extraer los campos que te interesan\n",
    "                tweet_data = {\n",
    "                    'date': data.get('date'),\n",
    "                    'user': data.get('user'),\n",
    "                }\n",
    "                data_list.append(tweet_data)  # Agregar los datos a la lista\n",
    "        \n",
    "        # Crear un DataFrame de pandas con los datos\n",
    "        df = pd.DataFrame(data_list)\n",
    "        df['date'] = pd.to_datetime(df['date']).dt.date\n",
    "        df['user'] = df['user'].apply(lambda x: x['username'] if isinstance(x, dict) else None)\n",
    "        # Agrupar por la columna 'date' y contar la cantidad de tweets\n",
    "        top_dates = df['date'].value_counts().head(10)\n",
    "        # Convertir a DataFrame para mayor claridad (opcional)\n",
    "        top_dates_df = top_dates.reset_index()\n",
    "        top_dates_df.columns = ['date', 'tweet_count']\n",
    "        # Convertir las fechas y sus conteos en una lista de tuplas\n",
    "        result = [(date, count) for date, count in top_dates.items()]\n",
    "\n",
    "        return result  # Retornar la lista de tuplas\n",
    "q1_time(file_path=complete_file_path)"
   ]
  },
  {
   "cell_type": "code",
   "execution_count": 28,
   "metadata": {},
   "outputs": [
    {
     "data": {
      "text/plain": [
       "[(datetime.date(2021, 2, 12), 12347),\n",
       " (datetime.date(2021, 2, 13), 11296),\n",
       " (datetime.date(2021, 2, 17), 11087),\n",
       " (datetime.date(2021, 2, 16), 10443),\n",
       " (datetime.date(2021, 2, 14), 10249),\n",
       " (datetime.date(2021, 2, 18), 9625),\n",
       " (datetime.date(2021, 2, 15), 9197),\n",
       " (datetime.date(2021, 2, 20), 8502),\n",
       " (datetime.date(2021, 2, 23), 8417),\n",
       " (datetime.date(2021, 2, 19), 8204)]"
      ]
     },
     "execution_count": 28,
     "metadata": {},
     "output_type": "execute_result"
    }
   ],
   "source": [
    "def q1_memory(file_path: str) -> List[Tuple[datetime.date, int]]:\n",
    "    # Utilizar un diccionario para contar tweets por fecha\n",
    "    tweet_counts = {}\n",
    "\n",
    "    # Leer el archivo JSON línea por línea\n",
    "    with open(file_path, 'r') as file:\n",
    "        for line in file:\n",
    "            data = json.loads(line)  # Convertir la línea a un objeto JSON\n",
    "            \n",
    "            # Extraer la fecha y el usuario\n",
    "            tweet_date = data.get('date')\n",
    "            user_info = data.get('user')\n",
    "            username = user_info['username'] if isinstance(user_info, dict) else None\n",
    "            \n",
    "            # Solo continuar si hay fecha y nombre de usuario\n",
    "            if tweet_date and username:\n",
    "                tweet_date = pd.to_datetime(tweet_date).date()  # Convertir a objeto fecha\n",
    "                \n",
    "                # Contar los tweets por fecha\n",
    "                if tweet_date in tweet_counts:\n",
    "                    tweet_counts[tweet_date] += 1\n",
    "                else:\n",
    "                    tweet_counts[tweet_date] = 1\n",
    "\n",
    "    # Obtener las 10 fechas con más tweets\n",
    "    top_dates = sorted(tweet_counts.items(), key=lambda x: x[1], reverse=True)[:10]\n",
    "    \n",
    "    return top_dates  # Retornar la lista de tuplas\n",
    "q1_memory(file_path=complete_file_path)"
   ]
  },
  {
   "cell_type": "code",
   "execution_count": null,
   "metadata": {},
   "outputs": [],
   "source": []
  },
  {
   "cell_type": "markdown",
   "metadata": {},
   "source": [
    ". Los top 10 emojis más usados con su respectivo conteo. Debe incluir las siguientes funciones:\n",
    "```python\n",
    "def q2_time(file_path: str) -> List[Tuple[str, int]]:\n",
    "```\n",
    "```python\n",
    "def q2_memory(file_path: str) -> List[Tuple[str, int]]:\n",
    "```\n",
    "```python\n",
    "Returns: \n",
    "[(\"✈️\", 6856), (\"❤️\", 5876), ...]\n",
    "```"
   ]
  },
  {
   "cell_type": "code",
   "execution_count": 37,
   "metadata": {},
   "outputs": [],
   "source": [
    "def q2_time(file_path) -> List[Tuple[datetime.date, str]]:\n",
    "            # Leer el archivo JSON\n",
    "            # Lista para almacenar los datos extraídos\n",
    "            data_list = []\n",
    "            \n",
    "            # Leer el archivo JSON\n",
    "            with open(file_path, 'r') as file:\n",
    "                json_objects = file.read().splitlines()  # Splitting the JSON objects by lines\n",
    "                \n",
    "                for obj in json_objects:\n",
    "                    data = json.loads(obj)  # Convertir la línea a un objeto JSON\n",
    "                    # Extraer los campos que te interesan\n",
    "                    tweet_data = {\n",
    "                        'date': data.get('date'),\n",
    "                        'user': data.get('user'),\n",
    "                        'content': data.get('content'),\n",
    "                        'lang': data.get('lang'),\n",
    "                    }\n",
    "                    data_list.append(tweet_data)  # Agregar los datos a la lista\n",
    "            \n",
    "            # Crear un DataFrame de pandas con los datos\n",
    "            df = pd.DataFrame(data_list)\n",
    "            df['date'] = pd.to_datetime(df['date']).dt.date\n",
    "            df['user'] = df['user'].apply(lambda x: x['username'] if isinstance(x, dict) else None)\n",
    "            #df[df[\"lang\"]==\"es\"]\n",
    "            # Agrupar por la columna 'date' y contar la cantidad de tweets\n",
    "            df.head(100).to_csv(\"prueba.csv\")\n",
    "            \"\"\"top_dates = df['date'].value_counts().head(10)\n",
    "            # Convertir a DataFrame para mayor claridad (opcional)\n",
    "            top_dates_df = top_dates.reset_index()\n",
    "            top_dates_df.columns = ['date', 'tweet_count']\n",
    "            # Convertir las fechas y sus conteos en una lista de tuplas\n",
    "            result = [(date, count) for date, count in top_dates.items()]\n",
    "\n",
    "            return result  # Retornar la lista de tuplas\"\"\"\n",
    "q2_time(complete_file_path)"
   ]
  },
  {
   "cell_type": "code",
   "execution_count": 9,
   "metadata": {},
   "outputs": [
    {
     "data": {
      "text/plain": [
       "[('🙏', 7286), ('😂', 3072), ('🚜', 2972), ('✊', 2411), ('🌾', 2300)]"
      ]
     },
     "execution_count": 9,
     "metadata": {},
     "output_type": "execute_result"
    }
   ],
   "source": [
    "import json\n",
    "import pandas as pd\n",
    "import emoji\n",
    "import regex as re\n",
    "from typing import List, Tuple\n",
    "\n",
    "def q2_time(file_path: str) -> List[Tuple[str, int]]:\n",
    "    # Lista para almacenar los datos extraídos\n",
    "    data_list = []\n",
    "    \n",
    "    # Leer el archivo JSON\n",
    "    with open(file_path, 'r') as file:\n",
    "        json_objects = file.read().splitlines()  # Separar los objetos JSON por líneas\n",
    "        \n",
    "        for obj in json_objects:\n",
    "            data = json.loads(obj)  # Convertir la línea a un objeto JSON\n",
    "            # Extraer los campos que te interesan\n",
    "            tweet_data = {\n",
    "                'date': data.get('date'),\n",
    "                'user': data.get('user'),\n",
    "                'content': data.get('content'),\n",
    "            }\n",
    "            data_list.append(tweet_data)  # Agregar los datos a la lista\n",
    "    \n",
    "    # Crear un DataFrame de pandas con los datos\n",
    "    df = pd.DataFrame(data_list)\n",
    "    df['date'] = pd.to_datetime(df['date']).dt.date\n",
    "    df['user'] = df['user'].apply(lambda x: x['username'] if isinstance(x, dict) else None)\n",
    "\n",
    "    # Expresión regular para capturar emojis\n",
    "    emojis_iter = emoji.EMOJI_DATA.keys()\n",
    "    regex_set = re.compile('|'.join(re.escape(em) for em in emojis_iter))\n",
    "\n",
    "    # Contador para los emojis\n",
    "    emoji_count = {}\n",
    "\n",
    "    # Contar los emojis en el contenido\n",
    "    for content in df['content']:\n",
    "        if isinstance(content, str):\n",
    "            found_emojis = regex_set.findall(content)\n",
    "            for em in found_emojis:\n",
    "                emoji_count[em] = emoji_count.get(em, 0) + 1\n",
    "\n",
    "    # Ordenar el contador y tomar los 5 más usados\n",
    "    top_emojis = sorted(emoji_count.items(), key=lambda x: x[1], reverse=True)[:5]\n",
    "\n",
    "    return top_emojis\n",
    "q2_time(complete_file_path)"
   ]
  },
  {
   "cell_type": "code",
   "execution_count": 13,
   "metadata": {},
   "outputs": [
    {
     "data": {
      "text/plain": [
       "[('🙏', 7286), ('😂', 3072), ('🚜', 2972), ('✊', 2411), ('🌾', 2363)]"
      ]
     },
     "execution_count": 13,
     "metadata": {},
     "output_type": "execute_result"
    }
   ],
   "source": [
    "from collections import Counter\n",
    "from memory_profiler import profile, memory_usage\n",
    "import cProfile\n",
    "\n",
    "\n",
    "def q2_time(file_path: str) -> List[Tuple[str, int]]:\n",
    "    # Leer el archivo JSON completo\n",
    "    with open(file_path, 'r') as file:\n",
    "        json_objects = [json.loads(line) for line in file]  # Usar comprensión de lista para cargar en bloque\n",
    "\n",
    "    # Crear un DataFrame de pandas con los datos directamente\n",
    "    df = pd.json_normalize(json_objects)[['user.username', 'content']]\n",
    "    df.columns = ['user', 'content']  # Renombrar columnas\n",
    "\n",
    "    # Contar emojis en el contenido usando Counter\n",
    "    emoji_count = Counter()\n",
    "    \n",
    "    for content in df['content'].dropna():  # Eliminar contenido nulo antes de procesar\n",
    "        found_emojis = [c for c in content if c in emoji.EMOJI_DATA]\n",
    "        emoji_count.update(found_emojis)\n",
    "\n",
    "    # Obtener los 5 emojis más comunes\n",
    "    top_emojis = emoji_count.most_common(5)\n",
    "\n",
    "    return top_emojis\n",
    "\n",
    "q2_time(complete_file_path)"
   ]
  },
  {
   "cell_type": "code",
   "execution_count": 14,
   "metadata": {},
   "outputs": [
    {
     "data": {
      "text/plain": [
       "[('🙏', 7286), ('😂', 3072), ('🚜', 2972), ('✊', 2411), ('🌾', 2363)]"
      ]
     },
     "execution_count": 14,
     "metadata": {},
     "output_type": "execute_result"
    }
   ],
   "source": [
    "def q2_memory(file_path: str) -> List[Tuple[str, int]]:\n",
    "    emoji_count = Counter()  # Contador de emojis\n",
    "\n",
    "    # Procesar el archivo línea por línea\n",
    "    with open(file_path, 'r') as file:\n",
    "        for line in file:\n",
    "            data = json.loads(line)  # Cargar el objeto JSON\n",
    "            \n",
    "            # Extraer los campos necesarios\n",
    "            user = data.get('user', {}).get('username', None)  # Obtener username\n",
    "            content = data.get('content', None)  # Obtener contenido\n",
    "            \n",
    "            # Contar emojis en el contenido\n",
    "            if isinstance(content, str):\n",
    "                found_emojis = [c for c in content if c in emoji.EMOJI_DATA]\n",
    "                emoji_count.update(found_emojis)\n",
    "\n",
    "    # Obtener los 5 emojis más comunes\n",
    "    top_emojis = emoji_count.most_common(5)\n",
    "\n",
    "    return top_emojis\n",
    "\n",
    "q2_memory(complete_file_path)"
   ]
  }
 ],
 "metadata": {
  "kernelspec": {
   "display_name": "base",
   "language": "python",
   "name": "python3"
  },
  "language_info": {
   "codemirror_mode": {
    "name": "ipython",
    "version": 3
   },
   "file_extension": ".py",
   "mimetype": "text/x-python",
   "name": "python",
   "nbconvert_exporter": "python",
   "pygments_lexer": "ipython3",
   "version": "3.11.5"
  },
  "orig_nbformat": 4
 },
 "nbformat": 4,
 "nbformat_minor": 2
}
